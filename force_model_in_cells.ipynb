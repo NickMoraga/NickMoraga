{
 "metadata": {
  "language_info": {
   "codemirror_mode": {
    "name": "ipython",
    "version": 3
   },
   "file_extension": ".py",
   "mimetype": "text/x-python",
   "name": "python",
   "nbconvert_exporter": "python",
   "pygments_lexer": "ipython3",
   "version": "3.9.1"
  },
  "orig_nbformat": 4,
  "kernelspec": {
   "name": "python3",
   "display_name": "Python 3.9.1 64-bit ('base': conda)"
  },
  "interpreter": {
   "hash": "a9dce9d34d5b30323586d60b1465b13436d47bd1baca8d68ddb17a342a441ea4"
  }
 },
 "nbformat": 4,
 "nbformat_minor": 2,
 "cells": [
  {
   "cell_type": "code",
   "execution_count": 1,
   "metadata": {},
   "outputs": [],
   "source": [
    "##Checking step by step before main script"
   ]
  },
  {
   "cell_type": "code",
   "execution_count": 2,
   "metadata": {},
   "outputs": [],
   "source": [
    "#libraries\n",
    "import math\n",
    "import numpy as np\n",
    "import scipy.io"
   ]
  },
  {
   "cell_type": "code",
   "execution_count": 3,
   "metadata": {},
   "outputs": [],
   "source": [
    "#constants, may be repplaced with orekit\n",
    "\n",
    "# considering arrays for conversion of matricies\n",
    "\n",
    "#gps time, to start?\n",
    "t_gps = np.array([0])\n",
    "recef = np.zeros((1,3))\n",
    "recef[0,0] = 6778137\n",
    "# recef = np.array([6778137, 0, 0]) #(m), if this becomes 3D(?) will have to redo ecef_llh\n",
    "vecef = np.array([0,0,7300]) #(m/2)\n",
    "#MSIS placeholder\n",
    "Nmsis = np.array([.5,.95,0,0,0,0]) #Number Densities (or ratio to total number density) of He, O, N2, O2, AR, H, N\n",
    "Tmsis = 700 #temp at altitude (K)\n",
    "Dmsis = 1e-12 #nuetral mass denisty (kg/m^3)"
   ]
  },
  {
   "cell_type": "code",
   "execution_count": 4,
   "metadata": {},
   "outputs": [
    {
     "output_type": "stream",
     "name": "stdout",
     "text": [
      "[[-1.37249017e+11  0.00000000e+00 -5.95322679e+10]]\n"
     ]
    }
   ],
   "source": [
    "#Vector pointing from satellite to sun (this should be obtainable from Orekit, and in ECEF coords)\n",
    "#but for now,\n",
    "# approx. solar vector at 1 AU sun-earth distance and around Dec. solstice, at midnight UT\n",
    "sun_deg = -23.45\n",
    "sdeg1 = math.radians(sun_deg)\n",
    "sdeg_array = np.zeros((1,3))\n",
    "sdeg_array[0,0] = -math.cos(sdeg1)\n",
    "sdeg_array[0,2] = math.sin(sdeg1)\n",
    "# sdeg_array = np.array([-math.cos(sdeg1),0,math.sin(sdeg1)])\n",
    "\n",
    "sunVector_ecef = 149597870700*sdeg_array - recef\n",
    "#need to fix above # fixed\n",
    "print(sunVector_ecef)"
   ]
  },
  {
   "cell_type": "code",
   "execution_count": 5,
   "metadata": {},
   "outputs": [],
   "source": [
    "#getareanrm function\n",
    "\n",
    "def getareanrm():\n",
    "    #data file with macromodel plate areas (m^2) and plate normal vectors in spacecraft body-fixed coordinates data refers to             #Starlink v1.0 and body-fixed coordinate system as shown in Starlink_geometry_20200331.jpg reflectivities and materials are           #guesses for now, satellite bus is assumed completely flat... need to revisit this at some point\n",
    "    Au = 196.96655\n",
    "    #SiO2 = 60.0843\n",
    "    SiO2 = 20.03\n",
    "    Al = 26.981538\n",
    "\n",
    "    #arrays for returns\n",
    "    A = np.zeros(6)\n",
    "    plt_M = np.zeros(6)\n",
    "    bwspec = np.zeros(6)\n",
    "    bwdiff = np.zeros(6)\n",
    "    nrm_sbf = np.zeros((3,6))\n",
    "\n",
    "\n",
    "    #****SOLAR PANELS: Front panel -Y (Shark Fin mode) or -Z (Open Book mode, sada_pos=pi/2; default setting used here, to be changed     #outside of this routine)\n",
    "    nrm_sbf[:,0] = [0, 0, -1] \n",
    "    A[0] = 8.05*2.77\n",
    "    bwspec[0] = 0.05\n",
    "    bwdiff[0] = 0.3\n",
    "    plt_M[0] = SiO2\n",
    "\n",
    "    #****SOLAR PANELS: Back panel +Y (Shark Fin mode) or +Z (Open Book mode, sada_pos=0; default setting used here, to be changed         #outside of this routine)\n",
    "    nrm_sbf[:,1] = [0, 0, 1] \n",
    "    A[1] = 8.05*2.77\n",
    "    bwspec[1] = 0.2\n",
    "    bwdiff[1] = 0.4\n",
    "    plt_M[1] = Al\n",
    "    \n",
    "    #****BUS: Zenith-facing -Z\n",
    "    nrm_sbf[:,2] = [0, 0, 1] \n",
    "    A[2] = 2.82*1.27\n",
    "    bwspec[2] = 0.2\n",
    "    bwdiff[2] = 0.4\n",
    "    plt_M[2] = Al \n",
    "\n",
    "    #***BUS: Nadir-facing +Z\n",
    "    nrm_sbf[:,3] = [0, 0, -1] \n",
    "    A[3] = 2.82*1.27\n",
    "    bwspec[3] = 0.2\n",
    "    bwdiff[3] = 0.4\n",
    "    plt_M[3] = Al    \n",
    "\n",
    "    #****VISORS: Satellite-facing +Y\n",
    "    nrm_sbf[:,4] = [0, 1, 0] \n",
    "    A[4] = .681+.426\n",
    "    bwspec[4] = 0.2\n",
    "    bwdiff[4] = 0.4\n",
    "    plt_M[4] = Al  \n",
    "\n",
    "    #****VISORS: Outward-facing -Y\n",
    "    nrm_sbf[:,5] = [0, -1, 0] \n",
    "    A[5] = .681+.426\n",
    "    bwspec[5] = 0.2\n",
    "    bwdiff[5] = 0.4\n",
    "    plt_M[5] = Al     \n",
    "\n",
    "    for i in range(len(nrm_sbf)):\n",
    "        nrm_sbf[:,i] = nrm_sbf[:,i] / np.linalg.norm(nrm_sbf[:,i])\n",
    "\n",
    "\n",
    "    return  [nrm_sbf,A,plt_M,bwspec,bwdiff]\n",
    "\n",
    "    #finished, should be good for script, works for following cell"
   ]
  },
  {
   "cell_type": "code",
   "execution_count": 6,
   "metadata": {},
   "outputs": [],
   "source": [
    "#substitute for struct in matlab\n",
    "satprop = []\n",
    "\n",
    "[nrm_sbf,area,plt_M,bwspec,bwdiff] = getareanrm()\n",
    "scmass = 260 #Starlink v1.0 mass (kg) this is from wikipedia(!)\n",
    "\n",
    "satprop.append(nrm_sbf)\n",
    "satprop.append(area)\n",
    "satprop.append(plt_M)\n",
    "satprop.append(bwspec)\n",
    "satprop.append(bwdiff)\n",
    "satprop.append(scmass)\n",
    "\n",
    "# print(satprop)"
   ]
  },
  {
   "cell_type": "code",
   "execution_count": 7,
   "metadata": {},
   "outputs": [],
   "source": [
    "# load matfile and access names for use \n",
    "att_model = scipy.io.loadmat('attitude_model.mat')\n",
    "att_model.keys()\n",
    "mean_slonsbf = att_model['mean_slonsbf']\n",
    "# mean_slonsbf[30,30]\n",
    "mean_ssada = att_model['mean_ssada']\n",
    "# mean_ssada[30,30]"
   ]
  },
  {
   "cell_type": "code",
   "execution_count": 8,
   "metadata": {},
   "outputs": [],
   "source": [
    "#2nd function ecef_llh\n",
    "\n",
    "def ecef_llh(r_ecef,converge):\n",
    "    #lat, lon in degrees\n",
    "    #height in km\n",
    "    a = 6378.1370; # km\n",
    "    b = 6356.75231425; # km\n",
    "    e = math.sqrt((a**2 - b**2)/a**2); # km\n",
    "\n",
    "    x = r_ecef[:,0] # km, first value\n",
    "    y = r_ecef[:,1] # km, second value\n",
    "    z = r_ecef[:,2] # km, third value\n",
    "    \n",
    "    lon = math.atan2(y,x)\n",
    "    p = math.sqrt(x**2 + y**2)\n",
    "    lat = math.atan(z/(p*(1-e**2)))\n",
    "\n",
    "    error = converge + 1\n",
    "\n",
    "    while error > converge:\n",
    "\n",
    "        N       = a**2/math.sqrt((a**2)*(math.cos(lat))**2 + (b**2)*(math.sin(lat))**2)\n",
    "        height  = p/math.cos(lat) - N\n",
    "        latn_1  = lat\n",
    "        lat     = math.atan(z/(p*(1-(e**2)*N/(N + height))))\n",
    "        error   = (abs(lat - latn_1)) #max taken out, might be needed later\n",
    "\n",
    "    lat = lat*180/math.pi\n",
    "    lon = lon*180/math.pi\n",
    "    height = height\n",
    "\n",
    "    return[lat,lon,height]\n",
    "\n"
   ]
  },
  {
   "cell_type": "code",
   "execution_count": 9,
   "metadata": {},
   "outputs": [
    {
     "output_type": "stream",
     "name": "stdout",
     "text": [
      "[1]\n"
     ]
    }
   ],
   "source": [
    "#setup attitude model\n",
    "[lat,lon,height] = ecef_llh(1e-3*recef,1e-12)\n",
    "# print(lat,lon,height)\n",
    "#seems to work good, reasonable answer\n",
    "\n",
    "slt = (t_gps/3600 + lon/15) % 24 #approx. local time\n",
    "latedges = np.arange(-54, 54, 1)\n",
    "sltedges = np.arange(0,24,.25)\n",
    "\n",
    "\n",
    "latbin = np.digitize(lat,latedges)\n",
    "sltbin = np.digitize(slt,sltedges)\n",
    "print(sltbin)\n",
    "\n",
    "#should be good, not sure if it works with multiple timesteps yet"
   ]
  },
  {
   "cell_type": "code",
   "execution_count": 10,
   "metadata": {},
   "outputs": [],
   "source": [
    "#allocate variables\n",
    "\n",
    "ecef2sbf = np.zeros((3,3,len(t_gps)))\n",
    "vrel_sbf = np.zeros((3,len(t_gps)))\n",
    "Cd = np.zeros((1,len(t_gps)))\n",
    "Aref = np.zeros((1,len(t_gps)))\n",
    "# print(Cd, Aref)"
   ]
  },
  {
   "cell_type": "code",
   "execution_count": 11,
   "metadata": {},
   "outputs": [],
   "source": [
    "#attitude_model_rotmat function\n",
    "def attitude_model_rotmat(recef,sunVector_ecef,solar_lon_sbf):\n",
    "    # %   Calculates the ECEF=>SBF rotation matrix based on\n",
    "    # % recef (position in ECEF coordinates), sunVector_ECEF \n",
    "    # % (vector pointing at the sun in ECEF coordinates), and\n",
    "    # % solar_lon_sbf (the longitude of the sun wrt the SBF coordinates\n",
    "    # % in the SBF-x and -y plane\n",
    "    # %   The method transforms this information into a rotation matrix by\n",
    "    # % constructing a set of coordinates 't' where t1 is zenith facing, \n",
    "    # % t2, is perpendicular to t1 and the sunVector, and t3 completes the \n",
    "    # % right-handed coordinate frame. The t=>SBF and t=>ECEF rotations are\n",
    "    # % constructed and then combined to give ECEF=>SBF\n",
    "\n",
    "    tsbf = np.zeros((3,3))\n",
    "    tecef = np.zeros((3,3))\n",
    "\n",
    "    tsbf[:,0] = [0,0,-1] #% t1 = zenith\n",
    "    # tsbf[:,1] = np.cross(tsbf[:,1],[cosd(solar_lon_sbf(1)),sind(solar_lon_sbf(1)),0]) #% t2 = perpendicular to t1 and sunVector\n",
    "    tsbf[:,1] = np.cross(tsbf[:,0],[math.cos(math.radians(solar_lon_sbf(1))),math.sin(math.radians(solar_lon_sbf(1))),0])\n",
    "    tsbf[:,1] = tsbf[:,1]/math.sqrt(sum(tsbf[:,1]**2,1)) # normalize\n",
    "    tsbf[:,2] = np.cross(tsbf[:,0],tsbf[:,1]) #% t3 = completes the right-hand coordinate\n",
    "\n",
    "    # tecef = np.zeros((3,3))\n",
    "    tecef[:,0] = recef[:,0]/math.sqrt(sum(recef[:,0]**2,1)) #% t1 = zenith\n",
    "    tecef[:,1] = np.cross(tecef[:,1],sunVector_ecef[0,:]) #% t2 = perpendicular to t1 and sunVector\n",
    "    tecef[:,1] = tecef[:,1]/math.sqrt(sum(tecef[:,1]**2,1)) # normalize\n",
    "    tecef[:,2] = np.cross(tecef[:,0],tecef[:,1]) #% t3 = completes the right-hand coordinate\n",
    "\n",
    "    ecef2sbf = tsbf*(np.conj(tecef))\n",
    "    print(ecef2sbf(type))\n",
    "    return [ecef2sbf]"
   ]
  },
  {
   "cell_type": "code",
   "execution_count": 12,
   "metadata": {},
   "outputs": [],
   "source": [
    "tsbf = np.zeros((3,3))\n",
    "tsbf[:,0] = [0,0,-1]\n",
    "assis = np.cross([0,0-1],[math.cos(math.radians(30)),math.sin(math.radians(6)),0])\n",
    "tsbf[:,1] = assis\n",
    "tsbf[:,1] = tsbf[:,1]/math.sqrt(sum(tsbf[:,1]**2,1)); # normalize\n",
    "tsbf[:,2] = np.cross(tsbf[:,0],tsbf[:,1]) #% t3 = completes the right-hand coordinate"
   ]
  },
  {
   "cell_type": "code",
   "execution_count": 13,
   "metadata": {},
   "outputs": [
    {
     "output_type": "stream",
     "name": "stdout",
     "text": [
      "[[ 0. -0.  0.]\n [ 0.  0. -0.]\n [ 0.  0.  0.]]\n"
     ]
    }
   ],
   "source": [
    "tsbf = np.zeros((3,3))\n",
    "tecef = np.zeros((3,3))\n",
    " \n",
    "tecef[:,0] = recef[:,0]/math.sqrt(sum(recef[:,0]**2,1)) #% t1 = zenith\n",
    "tecef[:,1] = np.cross(tecef[:,1],sunVector_ecef[0,:]) #% t2 = perpendicular to t1 and sunVector\n",
    "tecef[:,1] = tecef[:,1]/math.sqrt(sum(tecef[:,1]**2,1)); # normalize\n",
    "tecef[:,2] = np.cross(tecef[:,0],tecef[:,1]) #% t3 = completes the right-hand coordinate\n",
    "ecef2sbf = tsbf*(np.conj(tecef))\n",
    "print(ecef2sbf)"
   ]
  },
  {
   "cell_type": "code",
   "execution_count": 14,
   "metadata": {},
   "outputs": [
    {
     "output_type": "error",
     "ename": "IndexError",
     "evalue": "invalid index to scalar variable.",
     "traceback": [
      "\u001b[1;31m---------------------------------------------------------------------------\u001b[0m",
      "\u001b[1;31mIndexError\u001b[0m                                Traceback (most recent call last)",
      "\u001b[1;32m<ipython-input-14-f09055dc5971>\u001b[0m in \u001b[0;36m<module>\u001b[1;34m\u001b[0m\n\u001b[0;32m      5\u001b[0m \u001b[1;32mfor\u001b[0m \u001b[0mj\u001b[0m \u001b[1;32min\u001b[0m \u001b[0mrange\u001b[0m\u001b[1;33m(\u001b[0m\u001b[0mlen\u001b[0m\u001b[1;33m(\u001b[0m\u001b[0mt_gps\u001b[0m\u001b[1;33m)\u001b[0m\u001b[1;33m)\u001b[0m\u001b[1;33m:\u001b[0m\u001b[1;33m\u001b[0m\u001b[1;33m\u001b[0m\u001b[0m\n\u001b[0;32m      6\u001b[0m         \u001b[1;31m# % Lookup attitude model to calculate ECEF->SBF rotation matrix when quaternion interpolation is unreliable\u001b[0m\u001b[1;33m\u001b[0m\u001b[1;33m\u001b[0m\u001b[1;33m\u001b[0m\u001b[0m\n\u001b[1;32m----> 7\u001b[1;33m         \u001b[0mecef2sbf\u001b[0m\u001b[1;33m[\u001b[0m\u001b[1;33m:\u001b[0m\u001b[1;33m,\u001b[0m\u001b[1;33m:\u001b[0m\u001b[1;33m,\u001b[0m\u001b[0mj\u001b[0m\u001b[1;33m]\u001b[0m \u001b[1;33m=\u001b[0m \u001b[0mattitude_model_rotmat\u001b[0m\u001b[1;33m(\u001b[0m\u001b[0mrecef\u001b[0m\u001b[1;33m[\u001b[0m\u001b[1;33m:\u001b[0m\u001b[1;33m,\u001b[0m\u001b[0mj\u001b[0m\u001b[1;33m]\u001b[0m\u001b[1;33m,\u001b[0m\u001b[0msunVector_ecef\u001b[0m\u001b[1;33m[\u001b[0m\u001b[1;33m:\u001b[0m\u001b[1;33m,\u001b[0m\u001b[0mj\u001b[0m\u001b[1;33m]\u001b[0m\u001b[1;33m,\u001b[0m\u001b[0mmean_slonsbf\u001b[0m\u001b[1;33m[\u001b[0m\u001b[0msltbin\u001b[0m\u001b[1;33m[\u001b[0m\u001b[0mj\u001b[0m\u001b[1;33m]\u001b[0m\u001b[1;33m,\u001b[0m\u001b[0mlatbin\u001b[0m\u001b[1;33m[\u001b[0m\u001b[0mj\u001b[0m\u001b[1;33m]\u001b[0m\u001b[1;33m]\u001b[0m\u001b[1;33m)\u001b[0m\u001b[1;33m\u001b[0m\u001b[1;33m\u001b[0m\u001b[0m\n\u001b[0m\u001b[0;32m      8\u001b[0m         \u001b[0msada_pos_interp\u001b[0m\u001b[1;33m[\u001b[0m\u001b[0mj\u001b[0m\u001b[1;33m]\u001b[0m \u001b[1;33m=\u001b[0m \u001b[0mmean_ssada\u001b[0m\u001b[1;33m[\u001b[0m\u001b[0msltbin\u001b[0m\u001b[1;33m[\u001b[0m\u001b[0mj\u001b[0m\u001b[1;33m]\u001b[0m\u001b[1;33m,\u001b[0m\u001b[0mlatbin\u001b[0m\u001b[1;33m[\u001b[0m\u001b[0mj\u001b[0m\u001b[1;33m]\u001b[0m\u001b[1;33m]\u001b[0m\u001b[1;33m\u001b[0m\u001b[1;33m\u001b[0m\u001b[0m\n\u001b[0;32m      9\u001b[0m \u001b[1;33m\u001b[0m\u001b[0m\n",
      "\u001b[1;31mIndexError\u001b[0m: invalid index to scalar variable."
     ]
    }
   ],
   "source": [
    "# Loop thru example values (here we only have one data point though)\n",
    "ecef2sbf = np.zeros((3,3,len(t_gps)))\n",
    "sada_pos_interp = np.zeros((1,len(t_gps)))\n",
    "\n",
    "for j in range(len(t_gps)):\n",
    "\t# % Lookup attitude model to calculate ECEF->SBF rotation matrix when quaternion interpolation is unreliable\n",
    "\tecef2sbf[:,:,j] = attitude_model_rotmat(recef[:,j],sunVector_ecef[:,j],mean_slonsbf[sltbin[j],latbin[j]])\n",
    "\tsada_pos_interp[j] = mean_ssada[sltbin[j],latbin[j]]\n",
    "\n",
    "\t# % Calculate velocity of satellite relative to atmosphere (ignoring winds but including co-rotation) in SBF coords\n",
    "\tvrel_sbf[:,j] = ecef2sbf[:,:,j]*vecef[:,j]\n",
    "\n",
    "\n",
    "    # % Orient solar panel based on sada_pod angle (in radians)\n",
    "\t# % (this won't work with parfor loops; instead modify the inputs to calc_srp below)\n",
    "\t# %satprop.nrm_sbf (:,1) = [ 0; -cos(sada_pos_interp(j)); -sin(sada_pos_interp(j))]; % solar panels\n",
    "\t# %satprop.nrm_sbf (:,2) = [ 0;  cos(sada_pos_interp(j));  sin(sada_pos_interp(j))]; % back of solar panels\n",
    "\n",
    "\n"
   ]
  },
  {
   "cell_type": "code",
   "execution_count": 15,
   "metadata": {},
   "outputs": [
    {
     "output_type": "error",
     "ename": "IndexError",
     "evalue": "invalid index to scalar variable.",
     "traceback": [
      "\u001b[1;31m---------------------------------------------------------------------------\u001b[0m",
      "\u001b[1;31mIndexError\u001b[0m                                Traceback (most recent call last)",
      "\u001b[1;32m<ipython-input-15-ab98da6d9be9>\u001b[0m in \u001b[0;36m<module>\u001b[1;34m\u001b[0m\n\u001b[0;32m      4\u001b[0m \u001b[1;32mfor\u001b[0m \u001b[0mj\u001b[0m \u001b[1;32min\u001b[0m \u001b[0mrange\u001b[0m\u001b[1;33m(\u001b[0m\u001b[0mlen\u001b[0m\u001b[1;33m(\u001b[0m\u001b[0mt_gps\u001b[0m\u001b[1;33m)\u001b[0m\u001b[1;33m)\u001b[0m\u001b[1;33m:\u001b[0m\u001b[1;33m\u001b[0m\u001b[1;33m\u001b[0m\u001b[0m\n\u001b[0;32m      5\u001b[0m         \u001b[1;31m# % Lookup attitude model to calculate ECEF->SBF rotation matrix when quaternion interpolation is unreliable\u001b[0m\u001b[1;33m\u001b[0m\u001b[1;33m\u001b[0m\u001b[1;33m\u001b[0m\u001b[0m\n\u001b[1;32m----> 6\u001b[1;33m         \u001b[0minky\u001b[0m \u001b[1;33m=\u001b[0m \u001b[0mattitude_model_rotmat\u001b[0m\u001b[1;33m(\u001b[0m\u001b[0mrecef\u001b[0m\u001b[1;33m[\u001b[0m\u001b[1;33m:\u001b[0m\u001b[1;33m,\u001b[0m\u001b[0mj\u001b[0m\u001b[1;33m]\u001b[0m\u001b[1;33m,\u001b[0m\u001b[0msunVector_ecef\u001b[0m\u001b[1;33m[\u001b[0m\u001b[1;33m:\u001b[0m\u001b[1;33m,\u001b[0m\u001b[0mj\u001b[0m\u001b[1;33m]\u001b[0m\u001b[1;33m,\u001b[0m\u001b[0mmean_slonsbf\u001b[0m\u001b[1;33m[\u001b[0m\u001b[0msltbin\u001b[0m\u001b[1;33m[\u001b[0m\u001b[0mj\u001b[0m\u001b[1;33m]\u001b[0m\u001b[1;33m,\u001b[0m\u001b[0mlatbin\u001b[0m\u001b[1;33m[\u001b[0m\u001b[0mj\u001b[0m\u001b[1;33m]\u001b[0m\u001b[1;33m]\u001b[0m\u001b[1;33m)\u001b[0m\u001b[1;33m\u001b[0m\u001b[1;33m\u001b[0m\u001b[0m\n\u001b[0m\u001b[0;32m      7\u001b[0m         \u001b[1;31m# sada_pos_interp[j] = mean_ssada[sltbin[j],latbin[j]]\u001b[0m\u001b[1;33m\u001b[0m\u001b[1;33m\u001b[0m\u001b[1;33m\u001b[0m\u001b[0m\n\u001b[0;32m      8\u001b[0m \u001b[1;33m\u001b[0m\u001b[0m\n",
      "\u001b[1;31mIndexError\u001b[0m: invalid index to scalar variable."
     ]
    }
   ],
   "source": [
    "ecef2sbf = np.zeros((3,3,len(t_gps)))\n",
    "sada_pos_interp = np.zeros((1,len(t_gps)))\n",
    "\n",
    "for j in range(len(t_gps)):\n",
    "\t# % Lookup attitude model to calculate ECEF->SBF rotation matrix when quaternion interpolation is unreliable\n",
    "\tinky = attitude_model_rotmat(recef[:,j],sunVector_ecef[:,j],mean_slonsbf[sltbin[j],latbin[j]])\n",
    "\t# sada_pos_interp[j] = mean_ssada[sltbin[j],latbin[j]]\n",
    "\n",
    "\t# % Calculate velocity of satellite relative to atmosphere (ignoring winds but including co-rotation) in SBF coords\n",
    "\t# vrel_sbf[:,j] = ecef2sbf[:,:,j]*vecef[:,j]\n",
    "\n",
    "\n",
    "    # % Orient solar panel based on sada_pod angle (in radians)\n",
    "\t# % (this won't work with parfor loops; instead modify the inputs to calc_srp below)\n",
    "\t# %satprop.nrm_sbf (:,1) = [ 0; -cos(sada_pos_interp(j)); -sin(sada_pos_interp(j))]; % solar panels\n",
    "\t# %satprop.nrm_sbf (:,2) = [ 0;  cos(sada_pos_interp(j));  sin(sada_pos_interp(j))]; % back of solar panels\n",
    "\n",
    "print(inky)"
   ]
  },
  {
   "cell_type": "code",
   "execution_count": null,
   "metadata": {},
   "outputs": [],
   "source": []
  }
 ]
}