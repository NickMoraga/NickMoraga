{
 "metadata": {
  "language_info": {
   "codemirror_mode": {
    "name": "ipython",
    "version": 3
   },
   "file_extension": ".py",
   "mimetype": "text/x-python",
   "name": "python",
   "nbconvert_exporter": "python",
   "pygments_lexer": "ipython3",
   "version": "3.9.1"
  },
  "orig_nbformat": 2,
  "kernelspec": {
   "name": "python391jvsc74a57bd0a9dce9d34d5b30323586d60b1465b13436d47bd1baca8d68ddb17a342a441ea4",
   "display_name": "Python 3.9.1 64-bit ('base': conda)"
  }
 },
 "nbformat": 4,
 "nbformat_minor": 2,
 "cells": [
  {
   "cell_type": "code",
   "execution_count": 109,
   "metadata": {},
   "outputs": [],
   "source": [
    "import requests\n",
    "import csv\n",
    "import pandas as pd"
   ]
  },
  {
   "cell_type": "code",
   "execution_count": 110,
   "metadata": {},
   "outputs": [],
   "source": [
    "#download TLEs as a CSV\n",
    "url = 'https://www.celestrak.com/NORAD/elements/starlink.txt'\n",
    "req = requests.get(url)\n",
    "url_content = req.content\n",
    "csv_file = open('starlink_TLEdata.csv', 'wb')\n",
    "\n",
    "\n",
    "csv_file.write(url_content)\n",
    "csv_file.close()"
   ]
  },
  {
   "cell_type": "code",
   "execution_count": 111,
   "metadata": {},
   "outputs": [],
   "source": [
    "sat_num = []\n",
    "line1 = []\n",
    "line2 = []"
   ]
  },
  {
   "cell_type": "code",
   "execution_count": 112,
   "metadata": {
    "tags": []
   },
   "outputs": [
    {
     "output_type": "stream",
     "name": "stdout",
     "text": [
      "                                                      0\n1     1 44238U 19029D   21160.87374499  .00004538  0...\n4     1 44249U 19029Q   21160.84490955  .00001524  0...\n7     1 44252U 19029T   21160.85902932  .00003469  0...\n10    1 44257U 19029Y   21160.75105263  .00021214  0...\n13    1 44279U 19029AW  21161.44608123  .00250412  3...\n...                                                 ...\n5038  1 48697U 21044BM  21161.50001157 -.01034424  0...\n5041  1 48698U 21044BN  21161.36910866  .00263812  4...\n5044  1 48699U 21044BP  21161.36663319  .00242826  3...\n5047  1 48700U 21044BQ  21161.23155907  .00276287  4...\n5050  1 48701U 21044BR  21161.41250759  .00363604  7...\n\n[1684 rows x 1 columns]\n"
     ]
    }
   ],
   "source": [
    "with open('starlink_TLEdata.csv', mode='r') as csv_file:\n",
    "    df = pd.read_csv('starlink_TLEdata.csv', header = None)\n",
    "    # put in header to make number of rows easier\n",
    "    df.to_csv(\"starlink_TLEdata.csv\", header=['TLEi'], index=False)\n",
    "    # print(df.head(9))\n",
    "    csv_reader = csv.DictReader(csv_file)\n",
    "    line2 = df[df.index % 3 == 0]\n",
    "    line1 = df[df.index % 3 == 1]\n",
    "    sat_num = df[df.index % 3 == 2]\n",
    "\n",
    "   \n",
    "print(line1)"
   ]
  },
  {
   "cell_type": "code",
   "execution_count": 85,
   "metadata": {
    "tags": []
   },
   "outputs": [
    {
     "output_type": "error",
     "ename": "IndexError",
     "evalue": "list index out of range",
     "traceback": [
      "\u001b[1;31m---------------------------------------------------------------------------\u001b[0m",
      "\u001b[1;31mIndexError\u001b[0m                                Traceback (most recent call last)",
      "\u001b[1;32m<ipython-input-85-5df79d6fddf3>\u001b[0m in \u001b[0;36m<module>\u001b[1;34m\u001b[0m\n\u001b[0;32m      4\u001b[0m     \u001b[1;32mfor\u001b[0m \u001b[0mrow\u001b[0m \u001b[1;32min\u001b[0m \u001b[0mcsvin\u001b[0m\u001b[1;33m:\u001b[0m\u001b[1;33m\u001b[0m\u001b[1;33m\u001b[0m\u001b[0m\n\u001b[0;32m      5\u001b[0m         \u001b[0msat_num\u001b[0m\u001b[1;33m.\u001b[0m\u001b[0mappend\u001b[0m\u001b[1;33m(\u001b[0m\u001b[0mrow\u001b[0m\u001b[1;33m[\u001b[0m\u001b[1;36m0\u001b[0m\u001b[1;33m]\u001b[0m\u001b[1;33m)\u001b[0m\u001b[1;33m\u001b[0m\u001b[1;33m\u001b[0m\u001b[0m\n\u001b[1;32m----> 6\u001b[1;33m         \u001b[0mline1\u001b[0m\u001b[1;33m.\u001b[0m\u001b[0mappend\u001b[0m\u001b[1;33m(\u001b[0m\u001b[0mrow\u001b[0m\u001b[1;33m[\u001b[0m\u001b[1;36m1\u001b[0m\u001b[1;33m]\u001b[0m\u001b[1;33m)\u001b[0m\u001b[1;33m\u001b[0m\u001b[1;33m\u001b[0m\u001b[0m\n\u001b[0m\u001b[0;32m      7\u001b[0m         \u001b[0mline2\u001b[0m\u001b[1;33m.\u001b[0m\u001b[0mappend\u001b[0m\u001b[1;33m(\u001b[0m\u001b[0mrow\u001b[0m\u001b[1;33m[\u001b[0m\u001b[1;36m1\u001b[0m\u001b[1;33m]\u001b[0m\u001b[1;33m)\u001b[0m\u001b[1;33m\u001b[0m\u001b[1;33m\u001b[0m\u001b[0m\n\u001b[0;32m      8\u001b[0m \u001b[0mprint\u001b[0m\u001b[1;33m(\u001b[0m\u001b[0msat_num\u001b[0m\u001b[1;33m)\u001b[0m\u001b[1;33m\u001b[0m\u001b[1;33m\u001b[0m\u001b[0m\n",
      "\u001b[1;31mIndexError\u001b[0m: list index out of range"
     ]
    }
   ],
   "source": [
    "with open('starlink_TLEdata.csv') as f:\n",
    "    # f.readline() # Skip header line\n",
    "    csvin = csv.reader(f)\n",
    "    for row in csvin:\n",
    "        sat_num.append(row[0])\n",
    "        line1.append(row[1])\n",
    "        line2.append(row[1])\n",
    "print(sat_num)"
   ]
  },
  {
   "cell_type": "code",
   "execution_count": 86,
   "metadata": {},
   "outputs": [],
   "source": [
    "# link = df[df.index % 3 == 0]\n",
    "# num1 = df[df.index % 3 == 1]\n",
    "# num2 = df[df.index % 3 == 2]"
   ]
  },
  {
   "cell_type": "code",
   "execution_count": 87,
   "metadata": {
    "tags": []
   },
   "outputs": [],
   "source": [
    "with open('starlink_TLEdata.csv', mode='r') as csv_file:\n",
    "    csv_reader = csv.DictReader(csv_file)\n",
    "\n",
    "    for i, line in enumerate(csv_file):\n",
    "\n",
    "        if i %3 == 0:\n",
    "# You have a link\n",
    "            sat_num.append(csv_reader)\n",
    "\n",
    "        elif i % 3 == 1:\n",
    "# You have line 1\n",
    "            line1.append(csv_reader)\n",
    "\n",
    "# print(sat_num)"
   ]
  },
  {
   "cell_type": "code",
   "execution_count": 88,
   "metadata": {},
   "outputs": [
    {
     "output_type": "stream",
     "name": "stdout",
     "text": [
      "[]\n"
     ]
    }
   ],
   "source": [
    "with open('starlink_TLEdata.csv') as csv_file:\n",
    "    reader = csv.DictReader(csv_file)\n",
    "\n",
    "    count = 0\n",
    "    fsa = []\n",
    "\n",
    "    # for row in reader:\n",
    "        # count = count +1\n",
    "        # fsa.append(row[1])\n",
    "        # if count > 10:\n",
    "            # break\n",
    "\n",
    "print(fsa)"
   ]
  },
  {
   "cell_type": "code",
   "execution_count": 89,
   "metadata": {},
   "outputs": [],
   "source": [
    "import pandas as pd\n",
    "# best one so far\n",
    "with open('starlink_TLEdata.csv') as csv_file:\n",
    "    df = pd.read_csv('starlink_TLEdata.csv', header = None)\n",
    "    # put in header to make number of rows easier\n",
    "    df.to_csv(\"starlink_TLEdata.csv\", header=['TLEi'], index=False)\n",
    "    # print(df.head(9))"
   ]
  },
  {
   "cell_type": "code",
   "execution_count": 90,
   "metadata": {},
   "outputs": [],
   "source": [
    "#iloc has been a major breakthrough, very very stoked\n",
    "yeet = df.iloc[4:9,0]\n",
    "\n",
    "# print(yeet)\n"
   ]
  },
  {
   "cell_type": "code",
   "execution_count": 91,
   "metadata": {},
   "outputs": [
    {
     "output_type": "execute_result",
     "data": {
      "text/plain": [
       "str"
      ]
     },
     "metadata": {},
     "execution_count": 91
    }
   ],
   "source": [
    "sat_num = df.iloc[1,0]\n",
    "line1 = df.iloc[2,0]\n",
    "line2 = df.iloc[3,0]\n",
    "    # sat_num = df.iloc[count + 1,0]\n",
    "    # line1 = df.iloc[count + 2,0]\n",
    "    # line2 = df.iloc[count + 3,0]\n",
    "type(line1)"
   ]
  },
  {
   "cell_type": "code",
   "execution_count": 96,
   "metadata": {},
   "outputs": [
    {
     "output_type": "error",
     "ename": "AttributeError",
     "evalue": "'str' object has no attribute 'insert'",
     "traceback": [
      "\u001b[1;31m---------------------------------------------------------------------------\u001b[0m",
      "\u001b[1;31mAttributeError\u001b[0m                            Traceback (most recent call last)",
      "\u001b[1;32m<ipython-input-96-af86dd1079a2>\u001b[0m in \u001b[0;36m<module>\u001b[1;34m\u001b[0m\n\u001b[0;32m      3\u001b[0m \u001b[1;32mwhile\u001b[0m \u001b[0mcount\u001b[0m \u001b[1;33m<\u001b[0m \u001b[1;36m100\u001b[0m\u001b[1;33m:\u001b[0m\u001b[1;33m\u001b[0m\u001b[1;33m\u001b[0m\u001b[0m\n\u001b[0;32m      4\u001b[0m     \u001b[0mnaame\u001b[0m \u001b[1;33m=\u001b[0m \u001b[0mdf\u001b[0m\u001b[1;33m.\u001b[0m\u001b[0miloc\u001b[0m\u001b[1;33m[\u001b[0m\u001b[0mcount\u001b[0m \u001b[1;33m+\u001b[0m \u001b[1;36m1\u001b[0m\u001b[1;33m,\u001b[0m\u001b[1;36m0\u001b[0m\u001b[1;33m]\u001b[0m\u001b[1;33m\u001b[0m\u001b[1;33m\u001b[0m\u001b[0m\n\u001b[1;32m----> 5\u001b[1;33m     \u001b[0msat_num\u001b[0m\u001b[1;33m.\u001b[0m\u001b[0minsert\u001b[0m\u001b[1;33m(\u001b[0m\u001b[1;36m0\u001b[0m\u001b[1;33m,\u001b[0m\u001b[1;34m\"naame\"\u001b[0m\u001b[1;33m)\u001b[0m\u001b[1;33m\u001b[0m\u001b[1;33m\u001b[0m\u001b[0m\n\u001b[0m\u001b[0;32m      6\u001b[0m     \u001b[0mcount\u001b[0m \u001b[1;33m=\u001b[0m \u001b[0mcount\u001b[0m \u001b[1;33m+\u001b[0m \u001b[1;36m3\u001b[0m\u001b[1;33m\u001b[0m\u001b[1;33m\u001b[0m\u001b[0m\n\u001b[0;32m      7\u001b[0m \u001b[1;33m\u001b[0m\u001b[0m\n",
      "\u001b[1;31mAttributeError\u001b[0m: 'str' object has no attribute 'insert'"
     ]
    }
   ],
   "source": [
    "#hypothetically this works, but rn its in string and cant be appended\n",
    "count  = 0\n",
    "while count < 100:\n",
    "    naame = df.iloc[count + 1,0]\n",
    "    sat_num.insert(0,\"naame\")\n",
    "    count = count + 3\n",
    "\n",
    "print(sat_num)"
   ]
  },
  {
   "cell_type": "code",
   "execution_count": 98,
   "metadata": {},
   "outputs": [
    {
     "output_type": "stream",
     "name": "stdout",
     "text": [
      "['abc', 'def', 'ghi']\n"
     ]
    }
   ],
   "source": [
    "a_list = [\"abc\", \"def\"]\n",
    "\n",
    "a_list.append(\"ghi\")\n",
    "\n",
    "print(a_list)"
   ]
  },
  {
   "cell_type": "code",
   "execution_count": null,
   "metadata": {},
   "outputs": [],
   "source": []
  }
 ]
}