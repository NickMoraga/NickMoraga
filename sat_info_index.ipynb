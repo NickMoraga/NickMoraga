{
 "metadata": {
  "language_info": {
   "codemirror_mode": {
    "name": "ipython",
    "version": 3
   },
   "file_extension": ".py",
   "mimetype": "text/x-python",
   "name": "python",
   "nbconvert_exporter": "python",
   "pygments_lexer": "ipython3",
   "version": "3.9.1"
  },
  "orig_nbformat": 2,
  "kernelspec": {
   "name": "python391jvsc74a57bd0a9dce9d34d5b30323586d60b1465b13436d47bd1baca8d68ddb17a342a441ea4",
   "display_name": "Python 3.9.1 64-bit ('base': conda)"
  }
 },
 "nbformat": 4,
 "nbformat_minor": 2,
 "cells": [
  {
   "cell_type": "code",
   "execution_count": 2,
   "metadata": {},
   "outputs": [],
   "source": [
    "import requests\n",
    "import csv\n",
    "import pandas as pd"
   ]
  },
  {
   "cell_type": "code",
   "execution_count": 3,
   "metadata": {},
   "outputs": [],
   "source": [
    "#download TLEs as a CSV\n",
    "url = 'https://www.celestrak.com/NORAD/elements/starlink.txt'\n",
    "req = requests.get(url)\n",
    "url_content = req.content\n",
    "csv_file = open('starlink_TLEdata.csv', 'wb')\n",
    "\n",
    "\n",
    "csv_file.write(url_content)\n",
    "csv_file.close()"
   ]
  },
  {
   "cell_type": "code",
   "execution_count": 4,
   "metadata": {},
   "outputs": [],
   "source": [
    "sat_num = []\n",
    "line1 = []\n",
    "line2 = []"
   ]
  },
  {
   "cell_type": "code",
   "execution_count": 5,
   "metadata": {
    "tags": []
   },
   "outputs": [
    {
     "output_type": "stream",
     "name": "stdout",
     "text": [
      "                                                      0\n2     2 44238  52.9964  22.8554 0001574  94.0987 266...\n5     2 44249  53.0063 357.9721 0005872  47.0522 313...\n8     2 44252  53.0005  24.7806 0001458 124.4998 235...\n11    2 44257  52.9998 276.2149 0000979 313.5453  46...\n14    2 44279  52.9858 258.3526 0013295 335.2084  24...\n...                                                 ...\n5039  2 48697  53.0521 351.3890 0001158  77.7719  53...\n5042  2 48698  53.0496 350.7521 0016336 247.4469 112...\n5045  2 48699  53.0502 350.7353 0015060 246.2303 113...\n5048  2 48700  53.0489 351.3138 0017058 235.9744 123...\n5051  2 48701  53.0488 350.3035 0013939 234.4758 125...\n\n[1684 rows x 1 columns]                                                       0\n1     1 44238U 19029D   21160.87374499  .00004538  0...\n4     1 44249U 19029Q   21160.84490955  .00001524  0...\n7     1 44252U 19029T   21160.85902932  .00003469  0...\n10    1 44257U 19029Y   21160.75105263  .00021214  0...\n13    1 44279U 19029AW  21161.44608123  .00250412  3...\n...                                                 ...\n5038  1 48697U 21044BM  21161.50001157 -.01034424  0...\n5041  1 48698U 21044BN  21161.36910866  .00263812  4...\n5044  1 48699U 21044BP  21161.36663319  .00242826  3...\n5047  1 48700U 21044BQ  21161.23155907  .00276287  4...\n5050  1 48701U 21044BR  21161.41250759  .00363604  7...\n\n[1684 rows x 1 columns]                              0\n0     STARLINK-24             \n3     STARLINK-61             \n6     STARLINK-71             \n9     STARLINK-43             \n12    STARLINK-68             \n...                        ...\n5037  STARLINK-2715           \n5040  FALCON 9 DEB            \n5043  FALCON 9 DEB            \n5046  FALCON 9 DEB            \n5049  FALCON 9 DEB            \n\n[1684 rows x 1 columns]\n"
     ]
    }
   ],
   "source": [
    "with open('starlink_TLEdata.csv', mode='r') as csv_file:\n",
    "    df = pd.read_csv('starlink_TLEdata.csv', header = None)\n",
    "    # put in header to make number of rows easier\n",
    "    df.to_csv(\"starlink_TLEdata.csv\", header=['TLEi'], index=False)\n",
    "    # print(df.head(9))\n",
    "    csv_reader = csv.DictReader(csv_file)\n",
    "    line2 = df[df.index % 3 == 0]\n",
    "    line1 = df[df.index % 3 == 1]\n",
    "    sat_num = df[df.index % 3 == 2]\n",
    "\n",
    "   \n",
    "print(sat_num,line1,line2)"
   ]
  },
  {
   "cell_type": "code",
   "execution_count": null,
   "metadata": {},
   "outputs": [],
   "source": []
  }
 ]
}